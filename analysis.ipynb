{
 "cells": [
  {
   "cell_type": "code",
   "execution_count": 4,
   "metadata": {},
   "outputs": [],
   "source": [
    "import matplotlib.pyplot as plt\n",
    "import cnn as cnn\n",
    "from torchvision import datasets, transforms\n",
    "from sklearn.model_selection import train_test_split\n",
    "import pandas as pd\n",
    "from PIL import Image\n",
    "import numpy as np\n",
    "import torch\n",
    "import imageio"
   ]
  },
  {
   "cell_type": "code",
   "execution_count": 5,
   "metadata": {},
   "outputs": [],
   "source": [
    "df = pd.read_csv(r'data\\A_Z Handwritten Data.csv').astype('float32')"
   ]
  },
  {
   "cell_type": "code",
   "execution_count": 6,
   "metadata": {},
   "outputs": [],
   "source": [
    "x = df.drop('0', axis = 1)\n",
    "y = df['0']"
   ]
  },
  {
   "cell_type": "code",
   "execution_count": 7,
   "metadata": {},
   "outputs": [
    {
     "name": "stdout",
     "output_type": "stream",
     "text": [
      "Train Data Shape: (297960, 28, 28)\n",
      "Test Data Shape: (74490, 28, 28)\n",
      "Train Data Shape: (297960,)\n",
      "Test Data Shape: (74490,)\n"
     ]
    }
   ],
   "source": [
    "x_train, x_test, y_train, y_test = train_test_split(x, y, test_size = 0.2)\n",
    "x_train = np.reshape(x_train.values, (x_train.shape[0], 28, 28))\n",
    "x_test = np.reshape(x_test.values, (x_test.shape[0], 28, 28))\n",
    "\n",
    "print('Train Data Shape:', x_train.shape)\n",
    "print('Test Data Shape:', x_test.shape)\n",
    "print('Train Data Shape:', y_train.shape)\n",
    "print('Test Data Shape:', y_test.shape)"
   ]
  },
  {
   "cell_type": "code",
   "execution_count": 9,
   "metadata": {},
   "outputs": [],
   "source": [
    "word_dict = {\n",
    "    0:'A',1:'B',2:'C',3:'D',4:'E',5:'F',6:'G',7:'H',8:'I',9:'J',10:'K',11:'L',12:'M',13:'N',14:'O',15:'P',16:'Q',17:'R',18:'S',19:'T',20:'U',21:'V',22:'W',23:'X', 24:'Y',25:'Z'\n",
    "}"
   ]
  },
  {
   "cell_type": "code",
   "execution_count": 14,
   "metadata": {},
   "outputs": [],
   "source": [
    "# During dataset creation\n",
    "X_train = []\n",
    "for xi, yi in zip(x_train, y_train):\n",
    "    x_new = torch.tensor(xi.reshape(1, 28, 28), dtype=torch.float32)  # add channel dimension\n",
    "    y_new = torch.tensor(yi, dtype=torch.long)\n",
    "    X_train.append((x_new, y_new))\n",
    "\n",
    "X_test = []\n",
    "for xi, yi in zip(x_test, y_test):\n",
    "    x_new = torch.tensor(xi.reshape(1, 28, 28), dtype=torch.float32)\n",
    "    y_new = torch.tensor(yi, dtype=torch.long)\n",
    "    X_test.append((x_new, y_new))"
   ]
  },
  {
   "cell_type": "code",
   "execution_count": 20,
   "metadata": {},
   "outputs": [],
   "source": [
    "model = cnn.CNN((28,28), [(3,1,1,32),(3,1,1,32),(3,1,1,64),(3,1,1,64)], [0,2,0,2], [26], 1)"
   ]
  },
  {
   "cell_type": "code",
   "execution_count": 21,
   "metadata": {},
   "outputs": [
    {
     "data": {
      "text/plain": [
       "CNN(\n",
       "  (conv_layers): ModuleList(\n",
       "    (0): Conv2d(1, 32, kernel_size=(3, 3), stride=(1, 1), padding=(1, 1))\n",
       "    (1): Conv2d(32, 32, kernel_size=(3, 3), stride=(1, 1), padding=(1, 1))\n",
       "    (2): Conv2d(32, 64, kernel_size=(3, 3), stride=(1, 1), padding=(1, 1))\n",
       "    (3): Conv2d(64, 64, kernel_size=(3, 3), stride=(1, 1), padding=(1, 1))\n",
       "  )\n",
       "  (pool_layers): ModuleList(\n",
       "    (0): MaxPool2d(kernel_size=0, stride=0, padding=0, dilation=1, ceil_mode=False)\n",
       "    (1): MaxPool2d(kernel_size=2, stride=2, padding=0, dilation=1, ceil_mode=False)\n",
       "    (2): MaxPool2d(kernel_size=0, stride=0, padding=0, dilation=1, ceil_mode=False)\n",
       "    (3): MaxPool2d(kernel_size=2, stride=2, padding=0, dilation=1, ceil_mode=False)\n",
       "  )\n",
       "  (fc_layers): ModuleList(\n",
       "    (0): Linear(in_features=3136, out_features=26, bias=True)\n",
       "  )\n",
       ")"
      ]
     },
     "execution_count": 21,
     "metadata": {},
     "output_type": "execute_result"
    }
   ],
   "source": [
    "model"
   ]
  },
  {
   "cell_type": "code",
   "execution_count": 22,
   "metadata": {},
   "outputs": [
    {
     "name": "stdout",
     "output_type": "stream",
     "text": [
      "Epoch 0 Test accuracy: 0.9422204494476318\n",
      "Epoch 1 Test accuracy: 0.9524365663528442\n",
      "Epoch 2 Test accuracy: 0.9449053406715393\n"
     ]
    }
   ],
   "source": [
    "model.train(X_train, 3, 100, 0.01, X_test)"
   ]
  },
  {
   "cell_type": "code",
   "execution_count": 52,
   "metadata": {},
   "outputs": [
    {
     "name": "stderr",
     "output_type": "stream",
     "text": [
      "<>:1: SyntaxWarning: invalid escape sequence '\\B'\n",
      "<>:1: SyntaxWarning: invalid escape sequence '\\B'\n",
      "C:\\Users\\26101742\\AppData\\Local\\Temp\\ipykernel_11044\\3962949984.py:1: SyntaxWarning: invalid escape sequence '\\B'\n",
      "  image = Image.open('images\\B2.png')\n"
     ]
    },
    {
     "data": {
      "text/plain": [
       "torch.Size([1, 1, 28, 28])"
      ]
     },
     "execution_count": 52,
     "metadata": {},
     "output_type": "execute_result"
    }
   ],
   "source": [
    "image = Image.open('images\\B2.png')\n",
    "image = image.resize((28, 28))\n",
    "image_array = np.array(image)\n",
    "\n",
    "if image_array.ndim == 3: \n",
    "    image_array = image_array.mean(axis=2)\n",
    "image_array = image_array\n",
    "\n",
    "x = torch.tensor(image_array, dtype=torch.float32)\n",
    "x = x.unsqueeze(0).unsqueeze(0)\n",
    "x = 255 - x\n",
    "x.shape"
   ]
  },
  {
   "cell_type": "code",
   "execution_count": 57,
   "metadata": {},
   "outputs": [
    {
     "name": "stdout",
     "output_type": "stream",
     "text": [
      "B\n"
     ]
    }
   ],
   "source": [
    "output = torch.argmax(model(x), dim=1)\n",
    "letter = word_dict[output.item()]\n",
    "print(letter)"
   ]
  },
  {
   "cell_type": "code",
   "execution_count": 58,
   "metadata": {},
   "outputs": [
    {
     "data": {
      "text/plain": [
       "<matplotlib.image.AxesImage at 0x1a891d1d040>"
      ]
     },
     "execution_count": 58,
     "metadata": {},
     "output_type": "execute_result"
    },
    {
     "data": {
      "image/png": "[encoded data removed]",
      "text/plain": [
       "<Figure size 640x480 with 1 Axes>"
      ]
     },
     "metadata": {},
     "output_type": "display_data"
    }
   ],
   "source": [
    "plt.imshow(image_array)"
   ]
  },
  {
   "cell_type": "code",
   "execution_count": 60,
   "metadata": {},
   "outputs": [],
   "source": [
    "torch.save(model.state_dict(), \"cnn_model.pth\")"
   ]
  },
  {
   "cell_type": "code",
   "execution_count": null,
   "metadata": {},
   "outputs": [],
   "source": []
  }
 ],
 "metadata": {
  "kernelspec": {
   "display_name": "Python 3 (ipykernel)",
   "language": "python",
   "name": "python3"
  },
  "language_info": {
   "codemirror_mode": {
    "name": "ipython",
    "version": 3
   },
   "file_extension": ".py",
   "mimetype": "text/x-python",
   "name": "python",
   "nbconvert_exporter": "python",
   "pygments_lexer": "ipython3",
   "version": "3.12.1"
  }
 },
 "nbformat": 4,
 "nbformat_minor": 4
}
